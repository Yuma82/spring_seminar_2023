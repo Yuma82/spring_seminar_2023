{
  "nbformat": 4,
  "nbformat_minor": 0,
  "metadata": {
    "colab": {
      "provenance": []
    },
    "kernelspec": {
      "name": "python3",
      "display_name": "Python 3"
    },
    "language_info": {
      "name": "python"
    }
  },
  "cells": [
    {
      "cell_type": "markdown",
      "source": [
        "## 課題1\n",
        "**1.**\n",
        "以下の出力が求まるように空欄を埋めてください\n",
        "\n",
        "\n",
        "```\n",
        ">>> a = [‘m’, ‘c’, ‘i’, ‘e’, ‘p’, ‘r’, ‘e’, ‘t, ‘o, ‘ ‘, ‘o’, ‘o’, ‘i’, ‘s’, ‘g’, ‘o’, ‘p’]\n",
        ">>> b = [‘a’, ‘h’, ‘n’, ‘ ‘, ‘e’, ‘c’, ‘p’, ‘i’, ‘n’, ‘r’, ‘b’, ‘t’, ‘c’, ‘-’, ‘r’, ‘u’, ‘!’]\n",
        ">>> text =[空欄]\n",
        ">>> for ch in text:\n",
        "print(ch, end=“”)\n",
        "machine perception robotics-group! # 目標出力\n",
        "```\n",
        "\n"
      ],
      "metadata": {
        "id": "FzJFvZ3J3ESY"
      }
    },
    {
      "cell_type": "markdown",
      "source": [
        "**1.1** **解答**\n",
        "\n",
        "\n"
      ],
      "metadata": {
        "id": "a2yZZh4c3ESh"
      }
    },
    {
      "cell_type": "code",
      "execution_count": null,
      "metadata": {
        "id": "TZE2tLb83ESh"
      },
      "outputs": [],
      "source": [
        " [i+j for i,j in zip(a, b)]"
      ]
    },
    {
      "cell_type": "markdown",
      "source": [
        "**1.2 実行結果**"
      ],
      "metadata": {
        "id": "0UfcM3cg3ESh"
      }
    },
    {
      "cell_type": "code",
      "source": [
        "a = ['m', 'c', 'i', 'e', 'p', 'r', 'e', 't', 'o', ' ', 'o', 'o', 'i', 's', 'g', 'o', 'p']\n",
        "b = ['a', 'h', 'n', ' ', 'e', 'c', 'p', 'i', 'n', 'r', 'b', 't', 'c', '-', 'r', 'u', '!']\n",
        "text = [i+j for i,j in zip(a, b)]\n",
        "for ch in text:\n",
        "  print(ch, end=\"\")"
      ],
      "metadata": {
        "colab": {
          "base_uri": "https://localhost:8080/"
        },
        "outputId": "20dc850d-681a-40d3-952a-73e47bb566ea",
        "id": "NKCX3d_23ESh"
      },
      "execution_count": null,
      "outputs": [
        {
          "output_type": "stream",
          "name": "stdout",
          "text": [
            "machine perception robotics-group!"
          ]
        }
      ]
    },
    {
      "cell_type": "markdown",
      "source": [
        "## 課題2\n",
        "**1.** 空欄1を埋めて，数学が70点以上の人数を算出してください\n",
        "\n",
        "\n",
        "```\n",
        "math = np.array([40, 15, 72, 22, 43, 82, 75, 7, 34, 49, 95, 75, 85, 47, 63])\n",
        "pass = [空欄1]\n",
        "pass\n",
        "6\n",
        "```\n",
        "\n"
      ],
      "metadata": {
        "id": "WBwsJugHvb6G"
      }
    },
    {
      "cell_type": "markdown",
      "source": [
        "**1.1** **解答**\n",
        "\n",
        "\n"
      ],
      "metadata": {
        "id": "lWdqNgfLxDhG"
      }
    },
    {
      "cell_type": "code",
      "execution_count": null,
      "metadata": {
        "id": "4xiN7bOSxDhI"
      },
      "outputs": [],
      "source": [
        "(math >= 70).astype(int).sum()"
      ]
    },
    {
      "cell_type": "markdown",
      "source": [
        "**1.2 実行結果**"
      ],
      "metadata": {
        "id": "NpE8pqxLxDhJ"
      }
    },
    {
      "cell_type": "code",
      "source": [
        "import numpy as np\n",
        "math = np.array([40, 15, 72, 22, 43, 82, 75, 7, 34, 49, 95, 75, 85, 47, 63])\n",
        "pass_count = (math >= 70).astype(int).sum()\n",
        "pass_count"
      ],
      "metadata": {
        "colab": {
          "base_uri": "https://localhost:8080/"
        },
        "outputId": "7f49fa06-b66d-4a3f-d4ba-6f6cf4de3a5e",
        "id": "T12i8johxDhJ"
      },
      "execution_count": 6,
      "outputs": [
        {
          "output_type": "execute_result",
          "data": {
            "text/plain": [
              "6"
            ]
          },
          "metadata": {},
          "execution_count": 6
        }
      ]
    },
    {
      "cell_type": "markdown",
      "source": [
        "**2.** 空欄1を埋めて，数学が70点以上の人数を算出してください\n",
        "\n",
        "\n",
        "```\n",
        "math = np.array([40, 15, 72, 22, 43, 82, 75, 7, 34, 49, 95, 75, 85, 47, 63])\n",
        "Z = [空欄2]\n",
        "```\n",
        "\n"
      ],
      "metadata": {
        "id": "XBNFweqD0-Xd"
      }
    },
    {
      "cell_type": "markdown",
      "source": [
        "**2.1** **解答**\n",
        "\n",
        "\n"
      ],
      "metadata": {
        "id": "gNwo-R9M0-Xe"
      }
    },
    {
      "cell_type": "code",
      "execution_count": null,
      "metadata": {
        "id": "SX8ayEIV0-Xe"
      },
      "outputs": [],
      "source": [
        "(math – np.mean(math)) / np.std(math)"
      ]
    },
    {
      "cell_type": "markdown",
      "source": [
        "**2.2 実行結果**"
      ],
      "metadata": {
        "id": "PRvtvAtK0-Xe"
      }
    },
    {
      "cell_type": "code",
      "source": [
        "import numpy as np\n",
        "math = np.array([40, 15, 72, 22, 43, 82, 75, 7, 34, 49, 95, 75, 85, 47, 63])\n",
        "Z = (math - np.mean(math)) / np.std(math)\n",
        "Z"
      ],
      "metadata": {
        "colab": {
          "base_uri": "https://localhost:8080/"
        },
        "outputId": "62146e18-74b5-41f9-a794-1653e0b63fff",
        "id": "hHFaJqG40-Xe"
      },
      "execution_count": 8,
      "outputs": [
        {
          "output_type": "execute_result",
          "data": {
            "text/plain": [
              "array([-0.52012054, -1.47622446,  0.70369249, -1.20851536, -0.40538806,\n",
              "        1.08613406,  0.81842496, -1.78217772, -0.74958548, -0.17592312,\n",
              "        1.5833081 ,  0.81842496,  1.20086653, -0.25241144,  0.35949508])"
            ]
          },
          "metadata": {},
          "execution_count": 8
        }
      ]
    },
    {
      "cell_type": "markdown",
      "source": [
        "## 課題3\n",
        "**1.**\n",
        "シグモイド関数，ソフトマックス関数，tanh関数をまとめて表示してください\n",
        "\n",
        "条件：x = np.arange(-5.0, 5.0, 0.1)，plt.ylim(-1.2, 1.2)，凡例，軸ラベル，タイトル\n",
        "\n",
        "グラフのサイズ，凡例，軸ラベル，タイトルは適切なサイズに変更（できれば）\n",
        "\n"
      ],
      "metadata": {
        "id": "185CU28itCzZ"
      }
    },
    {
      "cell_type": "markdown",
      "source": [
        "**1.1** **解答**\n",
        "\n",
        "\n"
      ],
      "metadata": {
        "id": "SBGv7zM7taXr"
      }
    },
    {
      "cell_type": "code",
      "execution_count": null,
      "metadata": {
        "id": "VbHdiwCBsg3r"
      },
      "outputs": [],
      "source": [
        "import numpy as np\n",
        "import matplotlib.pyplot as plt\n",
        "\n",
        "def sigmoid(x):\n",
        "    return 1 / (1 + np.exp(-x))\n",
        "\n",
        "def softmax(x):\n",
        "    return np.exp(x) / np.sum(np.exp(x))\n",
        "\n",
        "def tanh(x):\n",
        "    return np.tanh(x)\n",
        "\n",
        "x = np.arange(-5.0, 5.0, 0.1)\n",
        "\n",
        "plt.plot(x, sigmoid(x), label='sigmoid')\n",
        "plt.plot(x, softmax(x), label='softmax')\n",
        "plt.plot(x, tanh(x), label='tanh')\n",
        "\n",
        "plt.ylim(-1.2, 1.2)\n",
        "plt.legend()\n",
        "plt.xlabel('x')\n",
        "plt.ylabel('y')\n",
        "plt.title('Activation Functions')\n",
        "\n",
        "plt.show()"
      ]
    },
    {
      "cell_type": "markdown",
      "source": [
        "**1.2 実行結果**"
      ],
      "metadata": {
        "id": "n7hcq0natiZx"
      }
    },
    {
      "cell_type": "code",
      "source": [
        "import numpy as np\n",
        "import matplotlib.pyplot as plt\n",
        "\n",
        "def sigmoid(x):\n",
        "    return 1 / (1 + np.exp(-x))\n",
        "\n",
        "def softmax(x):\n",
        "    return np.exp(x) / np.sum(np.exp(x))\n",
        "\n",
        "def tanh(x):\n",
        "    return np.tanh(x)\n",
        "\n",
        "x = np.arange(-5.0, 5.0, 0.1)\n",
        "\n",
        "plt.plot(x, sigmoid(x), label='sigmoid')\n",
        "plt.plot(x, softmax(x), label='softmax')\n",
        "plt.plot(x, tanh(x), label='tanh')\n",
        "\n",
        "plt.ylim(-1.2, 1.2)\n",
        "plt.legend()\n",
        "plt.xlabel('x')\n",
        "plt.ylabel('y')\n",
        "plt.title('Activation Functions')\n",
        "\n",
        "plt.show()"
      ],
      "metadata": {
        "colab": {
          "base_uri": "https://localhost:8080/",
          "height": 295
        },
        "id": "zF1AsEvmtljW",
        "outputId": "2cc76a54-5442-4b61-cba9-806daa898ac9"
      },
      "execution_count": 9,
      "outputs": [
        {
          "output_type": "display_data",
          "data": {
            "text/plain": [
              "<Figure size 432x288 with 1 Axes>"
            ],
            "image/png": "[encoded data removed]"
          },
          "metadata": {
            "needs_background": "light"
          }
        }
      ]
    }
  ]
}